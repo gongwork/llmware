{
 "cells": [
  {
   "cell_type": "markdown",
   "id": "5d37b33d",
   "metadata": {},
   "source": [
    "## convert text to markdown\n",
    "\n",
    "turn text into list in markdown"
   ]
  },
  {
   "cell_type": "code",
   "execution_count": 9,
   "id": "ec7cc7fc",
   "metadata": {},
   "outputs": [],
   "source": [
    "txt = \"\"\"\n",
    "Speaker - Greg Loughnane :: https://www.linkedin.com/in/gregloughnane/\n",
    "Video :: https://www.youtube.com/watch?v=0QaUqoICNBo&t=272s\n",
    "Slide:: https://www.canva.com/design/DAFvFEhCJtg/Mthlo-nWXAPck3iK3JaB7Q/edit\n",
    "Code :: https://github.com/arcee-ai/DALM/tree/main (Domain Adapted Lang Modeling Toolkit)\n",
    "Company - AI Maker Space:: https://github.com/AI-Maker-Space/Fine-tuning-LLM-Resources\n",
    "Paper - Improving the Domain Adaptation of Retrieval Augmented Generation (RAG) Models for Open Domain Question Answering  :: https://arxiv.org/pdf/2210.02627.pdf\n",
    "LlmOps :: https://github.com/AI-Maker-Space/Interactive-Dev-Environment-for-LLM-Development\n",
    "Chainlit:\n",
    "Doc:: https://docs.chainlit.io/get-started/overview\n",
    "Github:: https://github.com/Chainlit/chainlit\n",
    "Demo:: https://github.com/AI-Maker-Space/Introduction-to-Chainlit\n",
    "\"\"\""
   ]
  },
  {
   "cell_type": "code",
   "execution_count": 10,
   "id": "c751e48c",
   "metadata": {},
   "outputs": [],
   "source": [
    "def txt2md(l, delimitor=\"::\"):\n",
    "    \"\"\"reformat to markdown text\n",
    "    \"\"\"\n",
    "    if delimitor not in l:\n",
    "        return l\n",
    "    \n",
    "    x = [i.strip() for i in l.split(delimitor) if i.strip()]\n",
    "    if len(x) < 2:\n",
    "        return l\n",
    "    label = \" : \".join(x[:-1])\n",
    "    url = x[-1]\n",
    "    return f\"- [{label}]({url})\""
   ]
  },
  {
   "cell_type": "code",
   "execution_count": 11,
   "id": "01ed13bb",
   "metadata": {},
   "outputs": [],
   "source": [
    "lines = []\n",
    "for l in txt.split(\"\\n\"):\n",
    "    lines.append(txt2md(l))"
   ]
  },
  {
   "cell_type": "code",
   "execution_count": 12,
   "id": "e6683257",
   "metadata": {},
   "outputs": [
    {
     "name": "stdout",
     "output_type": "stream",
     "text": [
      "\n",
      "- [Speaker - Greg Loughnane](https://www.linkedin.com/in/gregloughnane/)\n",
      "- [Video](https://www.youtube.com/watch?v=0QaUqoICNBo&t=272s)\n",
      "- [Slide](https://www.canva.com/design/DAFvFEhCJtg/Mthlo-nWXAPck3iK3JaB7Q/edit)\n",
      "- [Code](https://github.com/arcee-ai/DALM/tree/main (Domain Adapted Lang Modeling Toolkit))\n",
      "- [Company - AI Maker Space](https://github.com/AI-Maker-Space/Fine-tuning-LLM-Resources)\n",
      "- [Paper - Improving the Domain Adaptation of Retrieval Augmented Generation (RAG) Models for Open Domain Question Answering](https://arxiv.org/pdf/2210.02627.pdf)\n",
      "- [LlmOps](https://github.com/AI-Maker-Space/Interactive-Dev-Environment-for-LLM-Development)\n",
      "Chainlit:\n",
      "- [Doc](https://docs.chainlit.io/get-started/overview)\n",
      "- [Github](https://github.com/Chainlit/chainlit)\n",
      "- [Demo](https://github.com/AI-Maker-Space/Introduction-to-Chainlit)\n",
      "\n"
     ]
    }
   ],
   "source": [
    "print(\"\\n\".join(lines))"
   ]
  },
  {
   "cell_type": "code",
   "execution_count": 18,
   "id": "29927715",
   "metadata": {},
   "outputs": [],
   "source": [
    "from pathlib import Path"
   ]
  },
  {
   "cell_type": "code",
   "execution_count": 22,
   "id": "b4b9f82f",
   "metadata": {},
   "outputs": [],
   "source": [
    "report_fp = 'C:\\\\Users\\\\p2p2l\\\\llmware_data\\\\prompt_history\\\\interaction_report_Fri Dec  8 23:05:09 2023.csv'\n",
    "# report_fp = 'C:\\\\Users\\\\p2p2l\\\\llmware_data\\\\prompt_history\\\\interaction_report_2023-12-08-230509.csv'"
   ]
  },
  {
   "cell_type": "code",
   "execution_count": 23,
   "id": "7d305ad4",
   "metadata": {},
   "outputs": [
    {
     "ename": "OSError",
     "evalue": "[Errno 22] Invalid argument: 'C:\\\\Users\\\\p2p2l\\\\llmware_data\\\\prompt_history\\\\interaction_report_Fri Dec  8 23:05:09 2023.csv'",
     "output_type": "error",
     "traceback": [
      "\u001b[1;31m---------------------------------------------------------------------------\u001b[0m",
      "\u001b[1;31mOSError\u001b[0m                                   Traceback (most recent call last)",
      "\u001b[1;32m~\\AppData\\Local\\Temp\\ipykernel_7004\\1449237923.py\u001b[0m in \u001b[0;36m<module>\u001b[1;34m\u001b[0m\n\u001b[1;32m----> 1\u001b[1;33m \u001b[1;32mwith\u001b[0m \u001b[0mopen\u001b[0m\u001b[1;33m(\u001b[0m\u001b[0mPath\u001b[0m\u001b[1;33m(\u001b[0m\u001b[0mreport_fp\u001b[0m\u001b[1;33m)\u001b[0m\u001b[1;33m,\u001b[0m \u001b[1;34m'w'\u001b[0m\u001b[1;33m,\u001b[0m \u001b[0mencoding\u001b[0m\u001b[1;33m=\u001b[0m\u001b[1;34m'utf-8'\u001b[0m\u001b[1;33m,\u001b[0m \u001b[0mnewline\u001b[0m\u001b[1;33m=\u001b[0m\u001b[1;34m''\u001b[0m\u001b[1;33m)\u001b[0m \u001b[1;32mas\u001b[0m \u001b[0mcsvfile\u001b[0m\u001b[1;33m:\u001b[0m\u001b[1;33m\u001b[0m\u001b[1;33m\u001b[0m\u001b[0m\n\u001b[0m\u001b[0;32m      2\u001b[0m     \u001b[0mcsvfile\u001b[0m\u001b[1;33m.\u001b[0m\u001b[0mwrite\u001b[0m\u001b[1;33m(\u001b[0m\u001b[1;34m\"\\n\"\u001b[0m\u001b[1;33m.\u001b[0m\u001b[0mjoin\u001b[0m\u001b[1;33m(\u001b[0m\u001b[0mlines\u001b[0m\u001b[1;33m)\u001b[0m\u001b[1;33m)\u001b[0m\u001b[1;33m\u001b[0m\u001b[1;33m\u001b[0m\u001b[0m\n",
      "\u001b[1;31mOSError\u001b[0m: [Errno 22] Invalid argument: 'C:\\\\Users\\\\p2p2l\\\\llmware_data\\\\prompt_history\\\\interaction_report_Fri Dec  8 23:05:09 2023.csv'"
     ]
    }
   ],
   "source": [
    "with open(Path(report_fp), 'w', encoding='utf-8', newline='') as csvfile:\n",
    "    csvfile.write(\"\\n\".join(lines))"
   ]
  },
  {
   "cell_type": "code",
   "execution_count": null,
   "id": "6da052cc",
   "metadata": {},
   "outputs": [],
   "source": []
  }
 ],
 "metadata": {
  "kernelspec": {
   "display_name": "Python 3 (ipykernel)",
   "language": "python",
   "name": "python3"
  },
  "language_info": {
   "codemirror_mode": {
    "name": "ipython",
    "version": 3
   },
   "file_extension": ".py",
   "mimetype": "text/x-python",
   "name": "python",
   "nbconvert_exporter": "python",
   "pygments_lexer": "ipython3",
   "version": "3.9.13"
  },
  "nbTranslate": {
   "displayLangs": [
    "*"
   ],
   "hotkey": "alt-t",
   "langInMainMenu": true,
   "sourceLang": "en",
   "targetLang": "fr",
   "useGoogleTranslate": true
  },
  "toc": {
   "base_numbering": 1,
   "nav_menu": {},
   "number_sections": true,
   "sideBar": true,
   "skip_h1_title": false,
   "title_cell": "Table of Contents",
   "title_sidebar": "Contents",
   "toc_cell": false,
   "toc_position": {},
   "toc_section_display": true,
   "toc_window_display": false
  }
 },
 "nbformat": 4,
 "nbformat_minor": 5
}
