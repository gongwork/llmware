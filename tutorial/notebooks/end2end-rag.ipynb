{
 "cells": [
  {
   "cell_type": "code",
   "execution_count": 2,
   "id": "59e83116",
   "metadata": {},
   "outputs": [],
   "source": [
    "import os\n",
    "from llmware.library import Library\n",
    "from llmware.retrieval import Query\n",
    "from llmware.prompts import Prompt\n",
    "from llmware.setup import Setup\n",
    "\n",
    "# Update this value with your own API Key, either by setting the env var or editing it directly here:\n",
    "openai_api_key = os.environ[\"OPENAI_API_KEY\"]\n",
    "OPENAI_MODEL_NAME = \"gpt-3.5-turbo\" # \"gpt-4\""
   ]
  },
  {
   "cell_type": "raw",
   "id": "4f85f9fa",
   "metadata": {},
   "source": [
    "# A self-contained end-to-end example of RAG\n",
    "def end_to_end_rag():\n",
    "    \n",
    "    # Create a library called \"Agreements\", and load it with llmware sample files\n",
    "    print (f\"\\n > Creating library 'Agreements'...\")\n",
    "    library = Library().create_new_library(\"Agreements\")\n",
    "    sample_files_path = Setup().load_sample_files()\n",
    "    library.add_files(os.path.join(sample_files_path,\"Agreements\"))\n",
    "\n",
    "    # Create vector embeddings for the library using the \"industry-bert-contracts model and store them in Milvus\n",
    "    print (f\"\\n > Generating vector embeddings using embedding model: 'industry-bert-contracts'...\")\n",
    "    library.install_new_embedding(embedding_model_name=\"industry-bert-contracts\", vector_db=\"milvus\")\n",
    "\n",
    "    # Perform a semantic search against our library.  This will gather evidence to be used in the LLM prompt\n",
    "    print (f\"\\n > Performing a semantic query...\")\n",
    "    os.environ[\"TOKENIZERS_PARALLELISM\"] = \"false\" # Avoid a HuggingFace tokenizer warning\n",
    "    query_results = Query(library).semantic_query(\"Termination\", result_count=20)\n",
    "\n",
    "    # Create a new prompter using the GPT-4 and add the query_results captured above\n",
    "    prompt_text = \"Summarize the termination provisions\"\n",
    "    print (f\"\\n > Prompting LLM with '{prompt_text}'\")\n",
    "    prompter = Prompt().load_model(OPENAI_MODEL_NAME, api_key=openai_api_key)\n",
    "    sources = prompter.add_source_query_results(query_results)\n",
    "\n",
    "    # Prompt the LLM with the sources and a query string\n",
    "    responses = prompter.prompt_with_source(prompt_text, prompt_name=\"summarize_with_bullets\")\n",
    "    for response in responses:\n",
    "        print (\"\\n > LLM response\\n\" + response[\"llm_response\"])\n",
    "    \n",
    "    # Finally, generate a CSV report that can be shared\n",
    "    print (f\"\\n > Generating CSV report...\")\n",
    "    report_data = prompter.send_to_human_for_review()\n",
    "    print (\"File: \" + report_data[\"report_fp\"] + \"\\n\")\n",
    "\n",
    "# end_to_end_rag()"
   ]
  },
  {
   "cell_type": "code",
   "execution_count": 3,
   "id": "262a076c",
   "metadata": {},
   "outputs": [
    {
     "name": "stdout",
     "output_type": "stream",
     "text": [
      "\n",
      " > Creating library 'Agreements'...\n"
     ]
    },
    {
     "data": {
      "text/plain": [
       "{'docs_added': 15,\n",
       " 'blocks_added': 1272,\n",
       " 'images_added': 0,\n",
       " 'pages_added': 204,\n",
       " 'tables_added': 0,\n",
       " 'rejected_files': ['.DS_Store']}"
      ]
     },
     "execution_count": 3,
     "metadata": {},
     "output_type": "execute_result"
    }
   ],
   "source": [
    "# Create a library called \"Agreements\", and load it with llmware sample files\n",
    "print (f\"\\n > Creating library 'Agreements'...\")\n",
    "library = Library().create_new_library(\"Agreements\")\n",
    "sample_files_path = Setup().load_sample_files()\n",
    "library.add_files(os.path.join(sample_files_path,\"Agreements\"))"
   ]
  },
  {
   "cell_type": "code",
   "execution_count": 4,
   "id": "2f4bebfd",
   "metadata": {},
   "outputs": [
    {
     "name": "stdout",
     "output_type": "stream",
     "text": [
      "\n",
      " > Generating vector embeddings using embedding model: 'industry-bert-contracts'...\n"
     ]
    },
    {
     "data": {
      "text/plain": [
       "{'embeddings_created': 1272}"
      ]
     },
     "execution_count": 4,
     "metadata": {},
     "output_type": "execute_result"
    }
   ],
   "source": [
    "# Create vector embeddings for the library using the \"industry-bert-contracts model and store them in Milvus\n",
    "print (f\"\\n > Generating vector embeddings using embedding model: 'industry-bert-contracts'...\")\n",
    "library.install_new_embedding(embedding_model_name=\"industry-bert-contracts\", vector_db=\"milvus\")"
   ]
  },
  {
   "cell_type": "code",
   "execution_count": null,
   "id": "659ca5d0",
   "metadata": {},
   "outputs": [
    {
     "name": "stdout",
     "output_type": "stream",
     "text": [
      "\n",
      " > Performing a semantic query...\n"
     ]
    },
    {
     "name": "stderr",
     "output_type": "stream",
     "text": [
      "WARNING:pymilvus.decorators:\u001b[93m[search] retry:4, cost: 0.27s, reason: <_InactiveRpcError: StatusCode.UNAVAILABLE, failed to connect to all addresses; last error: UNKNOWN: ipv4:127.0.0.1:19530: connection attempt timed out before receiving SETTINGS frame>\u001b[0m\n",
      "WARNING:pymilvus.decorators:\u001b[93m[search] retry:5, cost: 0.81s, reason: <_InactiveRpcError: StatusCode.UNAVAILABLE, failed to connect to all addresses; last error: UNKNOWN: ipv4:127.0.0.1:19530: connection attempt timed out before receiving SETTINGS frame>\u001b[0m\n",
      "WARNING:pymilvus.decorators:\u001b[93m[search] retry:6, cost: 2.43s, reason: <_InactiveRpcError: StatusCode.UNAVAILABLE, failed to connect to all addresses; last error: UNKNOWN: ipv4:127.0.0.1:19530: connection attempt timed out before receiving SETTINGS frame>\u001b[0m\n",
      "WARNING:pymilvus.decorators:\u001b[93m[search] retry:7, cost: 3.00s, reason: <_InactiveRpcError: StatusCode.UNAVAILABLE, failed to connect to all addresses; last error: UNKNOWN: ipv4:127.0.0.1:19530: connection attempt timed out before receiving SETTINGS frame>\u001b[0m\n",
      "WARNING:pymilvus.decorators:\u001b[93m[search] retry:8, cost: 3.00s, reason: <_InactiveRpcError: StatusCode.UNAVAILABLE, failed to connect to all addresses; last error: UNKNOWN: ipv4:127.0.0.1:19530: connection attempt timed out before receiving SETTINGS frame>\u001b[0m\n",
      "WARNING:pymilvus.decorators:\u001b[93m[search] retry:9, cost: 3.00s, reason: <_InactiveRpcError: StatusCode.UNAVAILABLE, failed to connect to all addresses; last error: UNKNOWN: ipv4:127.0.0.1:19530: connection attempt timed out before receiving SETTINGS frame>\u001b[0m\n",
      "WARNING:pymilvus.decorators:\u001b[93m[search] retry:10, cost: 3.00s, reason: <_InactiveRpcError: StatusCode.UNAVAILABLE, failed to connect to all addresses; last error: UNKNOWN: ipv4:127.0.0.1:19530: connection attempt timed out before receiving SETTINGS frame>\u001b[0m\n",
      "WARNING:pymilvus.decorators:\u001b[93m[search] retry:11, cost: 3.00s, reason: <_InactiveRpcError: StatusCode.UNAVAILABLE, failed to connect to all addresses; last error: UNKNOWN: ipv4:127.0.0.1:19530: connection attempt timed out before receiving SETTINGS frame>\u001b[0m\n",
      "WARNING:pymilvus.decorators:\u001b[93m[search] retry:12, cost: 3.00s, reason: <_InactiveRpcError: StatusCode.UNAVAILABLE, failed to connect to all addresses; last error: UNKNOWN: ipv4:127.0.0.1:19530: connection attempt timed out before receiving SETTINGS frame>\u001b[0m\n",
      "WARNING:pymilvus.decorators:\u001b[93m[search] retry:13, cost: 3.00s, reason: <_InactiveRpcError: StatusCode.UNAVAILABLE, failed to connect to all addresses; last error: UNKNOWN: ipv4:127.0.0.1:19530: connection attempt timed out before receiving SETTINGS frame>\u001b[0m\n",
      "WARNING:pymilvus.decorators:\u001b[93m[search] retry:14, cost: 3.00s, reason: <_InactiveRpcError: StatusCode.UNAVAILABLE, failed to connect to all addresses; last error: UNKNOWN: ipv4:127.0.0.1:19530: connection attempt timed out before receiving SETTINGS frame>\u001b[0m\n",
      "WARNING:pymilvus.decorators:\u001b[93m[search] retry:15, cost: 3.00s, reason: <_InactiveRpcError: StatusCode.UNAVAILABLE, failed to connect to all addresses; last error: UNKNOWN: ipv4:127.0.0.1:19530: connection attempt timed out before receiving SETTINGS frame>\u001b[0m\n",
      "WARNING:pymilvus.decorators:\u001b[93m[search] retry:16, cost: 3.00s, reason: <_InactiveRpcError: StatusCode.UNAVAILABLE, failed to connect to all addresses; last error: UNKNOWN: ipv4:127.0.0.1:19530: connection attempt timed out before receiving SETTINGS frame>\u001b[0m\n"
     ]
    }
   ],
   "source": [
    "# Perform a semantic search against our library.  This will gather evidence to be used in the LLM prompt\n",
    "print (f\"\\n > Performing a semantic query...\")\n",
    "os.environ[\"TOKENIZERS_PARALLELISM\"] = \"false\" # Avoid a HuggingFace tokenizer warning\n",
    "query_results = Query(library).semantic_query(\"Termination\", result_count=20)"
   ]
  },
  {
   "cell_type": "code",
   "execution_count": null,
   "id": "cfb98b36",
   "metadata": {},
   "outputs": [],
   "source": [
    "query_results"
   ]
  },
  {
   "cell_type": "code",
   "execution_count": null,
   "id": "70370ab0",
   "metadata": {},
   "outputs": [],
   "source": [
    "# Create a new prompter using the GPT-4 and add the query_results captured above\n",
    "prompt_text = \"Summarize the termination provisions\"\n",
    "print (f\"\\n > Prompting LLM with '{prompt_text}'\")\n",
    "prompter = Prompt().load_model(OPENAI_MODEL_NAME, api_key=openai_api_key)\n",
    "sources = prompter.add_source_query_results(query_results)"
   ]
  },
  {
   "cell_type": "code",
   "execution_count": null,
   "id": "cfd7f898",
   "metadata": {},
   "outputs": [],
   "source": [
    "# Prompt the LLM with the sources and a query string\n",
    "responses = prompter.prompt_with_source(prompt_text, prompt_name=\"summarize_with_bullets\")\n",
    "for response in responses:\n",
    "    print (\"\\n > LLM response\\n\" + response[\"llm_response\"])"
   ]
  },
  {
   "cell_type": "code",
   "execution_count": null,
   "id": "dcae99e9",
   "metadata": {},
   "outputs": [],
   "source": [
    "# Finally, generate a CSV report that can be shared\n",
    "print (f\"\\n > Generating CSV report...\")\n",
    "report_data = prompter.send_to_human_for_review()\n",
    "print (\"File: \" + report_data[\"report_fp\"] + \"\\n\")"
   ]
  },
  {
   "cell_type": "code",
   "execution_count": null,
   "id": "812dd4d4",
   "metadata": {},
   "outputs": [],
   "source": []
  }
 ],
 "metadata": {
  "kernelspec": {
   "display_name": "Python 3 (ipykernel)",
   "language": "python",
   "name": "python3"
  },
  "language_info": {
   "codemirror_mode": {
    "name": "ipython",
    "version": 3
   },
   "file_extension": ".py",
   "mimetype": "text/x-python",
   "name": "python",
   "nbconvert_exporter": "python",
   "pygments_lexer": "ipython3",
   "version": "3.9.13"
  },
  "nbTranslate": {
   "displayLangs": [
    "*"
   ],
   "hotkey": "alt-t",
   "langInMainMenu": true,
   "sourceLang": "en",
   "targetLang": "fr",
   "useGoogleTranslate": true
  },
  "toc": {
   "base_numbering": 1,
   "nav_menu": {},
   "number_sections": true,
   "sideBar": true,
   "skip_h1_title": false,
   "title_cell": "Table of Contents",
   "title_sidebar": "Contents",
   "toc_cell": false,
   "toc_position": {},
   "toc_section_display": true,
   "toc_window_display": false
  }
 },
 "nbformat": 4,
 "nbformat_minor": 5
}
