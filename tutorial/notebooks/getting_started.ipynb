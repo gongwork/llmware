{
 "cells": [
  {
   "cell_type": "markdown",
   "id": "7dbdf28e",
   "metadata": {},
   "source": [
    "see `examples\\getting_started.py`\n",
    "\n",
    "``` This example demonstrates:\n",
    "    1. Creating your first library\n",
    "    2. Adding some files to it\n",
    "    3. Generating vector embeddings and storing them in Milvus \n",
    "    4. Doing a semantic query\n",
    "```"
   ]
  },
  {
   "cell_type": "code",
   "execution_count": 1,
   "id": "c5022162",
   "metadata": {},
   "outputs": [],
   "source": [
    "import os\n",
    "from llmware.library import Library\n",
    "from llmware.retrieval import Query\n",
    "from llmware.setup import Setup\n",
    "from llmware.status import Status"
   ]
  },
  {
   "cell_type": "code",
   "execution_count": 2,
   "id": "e076ff0c",
   "metadata": {},
   "outputs": [
    {
     "name": "stdout",
     "output_type": "stream",
     "text": [
      "\n",
      " > Creating library getting_started2...\n"
     ]
    }
   ],
   "source": [
    "library_name=\"getting_started2\"\n",
    "\n",
    "print (f\"\\n > Creating library {library_name}...\")\n",
    "library = Library().create_new_library(library_name)"
   ]
  },
  {
   "cell_type": "code",
   "execution_count": 3,
   "id": "b36bea69",
   "metadata": {},
   "outputs": [
    {
     "name": "stdout",
     "output_type": "stream",
     "text": [
      "\n",
      " > Loading the llmware Sample Files...\n"
     ]
    }
   ],
   "source": [
    "print (f\"\\n > Loading the llmware Sample Files...\")\n",
    "sample_files_path = Setup().load_sample_files()"
   ]
  },
  {
   "cell_type": "code",
   "execution_count": 4,
   "id": "6af99072",
   "metadata": {},
   "outputs": [
    {
     "data": {
      "text/plain": [
       "'C:\\\\Users\\\\p2p2l\\\\llmware_data\\\\sample_files'"
      ]
     },
     "execution_count": 4,
     "metadata": {},
     "output_type": "execute_result"
    }
   ],
   "source": [
    "sample_files_path"
   ]
  },
  {
   "cell_type": "code",
   "execution_count": 6,
   "id": "cea34373",
   "metadata": {},
   "outputs": [
    {
     "name": "stdout",
     "output_type": "stream",
     "text": [
      "\n",
      " > Adding some files to the library...\n"
     ]
    },
    {
     "data": {
      "text/plain": [
       "{'docs_added': 4,\n",
       " 'blocks_added': 132,\n",
       " 'images_added': 6,\n",
       " 'pages_added': 26,\n",
       " 'tables_added': 0,\n",
       " 'rejected_files': []}"
      ]
     },
     "execution_count": 6,
     "metadata": {},
     "output_type": "execute_result"
    }
   ],
   "source": [
    "print (f\"\\n > Adding some files to the library...\")\n",
    "# library.add_files(input_folder_path=os.path.join(sample_files_path, \"SmallLibrary\"))\n",
    "library.add_files(input_folder_path=os.path.join(sample_files_path, \"SmallLibrary2\"))"
   ]
  },
  {
   "cell_type": "code",
   "execution_count": 7,
   "id": "d05eff97",
   "metadata": {},
   "outputs": [
    {
     "name": "stdout",
     "output_type": "stream",
     "text": [
      "\n",
      " > Generating embedding vectors (using the 'mini-lm-sbert' model) and storing them (using 'Milvus')...\n",
      "0 of 1639 blocks\n",
      "500 of 1639 blocks\n",
      "1000 of 1639 blocks\n",
      "1500 of 1639 blocks\n",
      "1639 of 1639 blocks\n"
     ]
    },
    {
     "data": {
      "text/plain": [
       "{'embeddings_created': 1639}"
      ]
     },
     "execution_count": 7,
     "metadata": {},
     "output_type": "execute_result"
    }
   ],
   "source": [
    "print (f\"\\n > Generating embedding vectors (using the 'mini-lm-sbert' model) and storing them (using 'Milvus')...\")\n",
    "Status(library.account_name).tail_embedding_status(library.library_name, \"mini-lm-sbert\")\n",
    "library.install_new_embedding(embedding_model_name=\"mini-lm-sbert\", vector_db=\"milvus\")\n"
   ]
  },
  {
   "cell_type": "code",
   "execution_count": 8,
   "id": "4ad17a70",
   "metadata": {},
   "outputs": [
    {
     "name": "stdout",
     "output_type": "stream",
     "text": [
      "\n",
      " > Running a query for 'Salary'...\n",
      "[{'query': 'Salary', '_id': '65728ee6d67302754a00a8cc', 'text': \" Executive's base salary shall be reviewed annually   by the Board (or the compensation committee of the Board), pursuant to Employer's normal   compensation and performance review policies for senior level executives, and may be increased but not   decreased. The amount of any increase for each year shall be determined accordingly. For purposes of this   Agreement, the term Base Salary shall mean the amount of Executive's base salary established from   time to time pursuant to this Section 2.2.\", 'doc_ID': 10, 'block_ID': 16, 'page_num': 3, 'content_type': 'text', 'author_or_speaker': '', 'special_field1': '', 'file_source': 'C:\\\\Users\\\\p2p2l\\\\llmware_data\\\\tmp\\\\parser_tmp\\\\process_pdf_files\\\\Gaia EXECUTIVE EMPLOYMENT AGREEMENT.pdf', 'added_to_collection': '12/07/23 22:35:02', 'table': '', 'coords_x': 1093, 'coords_y': -1825, 'coords_cx': 2, 'coords_cy': 137, 'external_files': '', 'score': 0.0, 'similarity': 0.0, 'distance': 1.0577138662338257, 'matches': [[18, 'salary'], [383, 'salary'], [432, 'salary']], 'account_name': 'llmware', 'library_name': 'getting_started2'}, {'query': 'Salary', '_id': '65728eb7d67302754a00a302', 'text': \" Executive's base salary shall be reviewed annually   by the Board (or the compensation committee of the Board), pursuant to Employer's normal   compensation and performance review policies for senior level executives, and may be increased but not   decreased. The amount of any increase for each year shall be determined accordingly. For purposes of this   Agreement, the term Base Salary shall mean the amount of Executive's base salary established from   time to time pursuant to this Section 2.2.\", 'doc_ID': 6, 'block_ID': 16, 'page_num': 3, 'content_type': 'text', 'author_or_speaker': '', 'special_field1': '', 'file_source': 'C:\\\\Users\\\\p2p2l\\\\llmware_data\\\\tmp\\\\parser_tmp\\\\process_pdf_files\\\\Gaia EXECUTIVE EMPLOYMENT AGREEMENT.pdf', 'added_to_collection': '12/07/23 22:34:15', 'table': '', 'coords_x': 1093, 'coords_y': -1825, 'coords_cx': 2, 'coords_cy': 137, 'external_files': '', 'score': 0.0, 'similarity': 0.0, 'distance': 1.0577138662338257, 'matches': [[18, 'salary'], [383, 'salary'], [432, 'salary']], 'account_name': 'llmware', 'library_name': 'getting_started2'}, {'query': 'Salary', '_id': '65728ee6d67302754a00a8cb', 'text': \" Executive may also serve on one or more corporate   boards of another company (and committees thereof) upon giving advance notice to the Board prior to   commencing service on any other corporate board.   2.2. Base Salary. For all the services rendered by Executive hereunder, during the Employment Period,   Employer shall pay Executive a base salary at the annual rate of $250,000, payable semimonthly in   accordance with Employer's normal payroll practices.\", 'doc_ID': 10, 'block_ID': 15, 'page_num': 3, 'content_type': 'text', 'author_or_speaker': '', 'special_field1': '', 'file_source': 'C:\\\\Users\\\\p2p2l\\\\llmware_data\\\\tmp\\\\parser_tmp\\\\process_pdf_files\\\\Gaia EXECUTIVE EMPLOYMENT AGREEMENT.pdf', 'added_to_collection': '12/07/23 22:35:02', 'table': '', 'coords_x': 427, 'coords_y': -1586, 'coords_cx': 2, 'coords_cy': 123, 'external_files': '', 'score': 0.0, 'similarity': 0.0, 'distance': 1.0792405605316162, 'matches': [[216, 'salary'], [346, 'salary']], 'account_name': 'llmware', 'library_name': 'getting_started2'}]\n"
     ]
    }
   ],
   "source": [
    "print (f\"\\n > Running a query for 'Salary'...\")\n",
    "query_results = Query(library).semantic_query(query=\"Salary\", result_count=3, results_only=True)\n",
    "print (query_results)"
   ]
  },
  {
   "cell_type": "code",
   "execution_count": 9,
   "id": "535e985b",
   "metadata": {},
   "outputs": [
    {
     "name": "stdout",
     "output_type": "stream",
     "text": [
      "\n",
      "\n",
      "Hits for 'Salary' in getting_started2:\n",
      "\n",
      "File: C:\\Users\\p2p2l\\llmware_data\\tmp\\parser_tmp\\process_pdf_files\\Gaia EXECUTIVE EMPLOYMENT AGREEMENT.pdf (Page 3):\n",
      " Executive's base salary shall be reviewed annually   by the Board (or the compensation committee of the Board), pursuant to Employer's normal   compensation and performance review policies for senior level executives, and may be increased but not   decreased. The amount of any increase for each year shall be determined accordingly. For purposes of this   Agreement, the term Base Salary shall mean the amount of Executive's base salary established from   time to time pursuant to this Section 2.2.\n",
      "\n",
      "File: C:\\Users\\p2p2l\\llmware_data\\tmp\\parser_tmp\\process_pdf_files\\Gaia EXECUTIVE EMPLOYMENT AGREEMENT.pdf (Page 3):\n",
      " Executive's base salary shall be reviewed annually   by the Board (or the compensation committee of the Board), pursuant to Employer's normal   compensation and performance review policies for senior level executives, and may be increased but not   decreased. The amount of any increase for each year shall be determined accordingly. For purposes of this   Agreement, the term Base Salary shall mean the amount of Executive's base salary established from   time to time pursuant to this Section 2.2.\n",
      "\n",
      "File: C:\\Users\\p2p2l\\llmware_data\\tmp\\parser_tmp\\process_pdf_files\\Gaia EXECUTIVE EMPLOYMENT AGREEMENT.pdf (Page 3):\n",
      " Executive may also serve on one or more corporate   boards of another company (and committees thereof) upon giving advance notice to the Board prior to   commencing service on any other corporate board.   2.2. Base Salary. For all the services rendered by Executive hereunder, during the Employment Period,   Employer shall pay Executive a base salary at the annual rate of $250,000, payable semimonthly in   accordance with Employer's normal payroll practices.\n",
      "\n"
     ]
    }
   ],
   "source": [
    "print (f\"\\n\\nHits for 'Salary' in {library_name}:\\n\")\n",
    "for query_result in query_results:\n",
    "    print(\"File: \" +  query_result[\"file_source\"] + \" (Page \" + str(query_result[\"page_num\"]) + \"):\\n\" + query_result[\"text\"] + \"\\n\")\n"
   ]
  },
  {
   "cell_type": "code",
   "execution_count": null,
   "id": "285af833",
   "metadata": {},
   "outputs": [],
   "source": []
  }
 ],
 "metadata": {
  "kernelspec": {
   "display_name": "Python 3 (ipykernel)",
   "language": "python",
   "name": "python3"
  },
  "language_info": {
   "codemirror_mode": {
    "name": "ipython",
    "version": 3
   },
   "file_extension": ".py",
   "mimetype": "text/x-python",
   "name": "python",
   "nbconvert_exporter": "python",
   "pygments_lexer": "ipython3",
   "version": "3.9.13"
  },
  "nbTranslate": {
   "displayLangs": [
    "*"
   ],
   "hotkey": "alt-t",
   "langInMainMenu": true,
   "sourceLang": "en",
   "targetLang": "fr",
   "useGoogleTranslate": true
  },
  "toc": {
   "base_numbering": 1,
   "nav_menu": {},
   "number_sections": true,
   "sideBar": true,
   "skip_h1_title": false,
   "title_cell": "Table of Contents",
   "title_sidebar": "Contents",
   "toc_cell": false,
   "toc_position": {},
   "toc_section_display": true,
   "toc_window_display": false
  }
 },
 "nbformat": 4,
 "nbformat_minor": 5
}
