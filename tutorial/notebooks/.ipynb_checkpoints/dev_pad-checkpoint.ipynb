{
 "cells": [
  {
   "cell_type": "markdown",
   "id": "3093f8ed",
   "metadata": {},
   "source": [
    "## convert text to markdown\n",
    "\n",
    "turn text into list in markdown"
   ]
  },
  {
   "cell_type": "code",
   "execution_count": 9,
   "id": "feafd56c",
   "metadata": {},
   "outputs": [],
   "source": [
    "txt = \"\"\"\n",
    "Speaker - Greg Loughnane :: https://www.linkedin.com/in/gregloughnane/\n",
    "Video :: https://www.youtube.com/watch?v=0QaUqoICNBo&t=272s\n",
    "Slide:: https://www.canva.com/design/DAFvFEhCJtg/Mthlo-nWXAPck3iK3JaB7Q/edit\n",
    "Code :: https://github.com/arcee-ai/DALM/tree/main (Domain Adapted Lang Modeling Toolkit)\n",
    "Company - AI Maker Space:: https://github.com/AI-Maker-Space/Fine-tuning-LLM-Resources\n",
    "Paper - Improving the Domain Adaptation of Retrieval Augmented Generation (RAG) Models for Open Domain Question Answering  :: https://arxiv.org/pdf/2210.02627.pdf\n",
    "LlmOps :: https://github.com/AI-Maker-Space/Interactive-Dev-Environment-for-LLM-Development\n",
    "Chainlit:\n",
    "Doc:: https://docs.chainlit.io/get-started/overview\n",
    "Github:: https://github.com/Chainlit/chainlit\n",
    "Demo:: https://github.com/AI-Maker-Space/Introduction-to-Chainlit\n",
    "\"\"\""
   ]
  },
  {
   "cell_type": "code",
   "execution_count": 10,
   "id": "727e8af1",
   "metadata": {},
   "outputs": [],
   "source": [
    "def txt2md(l, delimitor=\"::\"):\n",
    "    \"\"\"reformat to markdown text\n",
    "    \"\"\"\n",
    "    if delimitor not in l:\n",
    "        return l\n",
    "    \n",
    "    x = [i.strip() for i in l.split(delimitor) if i.strip()]\n",
    "    if len(x) < 2:\n",
    "        return l\n",
    "    label = \" : \".join(x[:-1])\n",
    "    url = x[-1]\n",
    "    return f\"- [{label}]({url})\""
   ]
  },
  {
   "cell_type": "code",
   "execution_count": 11,
   "id": "77741199",
   "metadata": {},
   "outputs": [],
   "source": [
    "lines = []\n",
    "for l in txt.split(\"\\n\"):\n",
    "    lines.append(txt2md(l))"
   ]
  },
  {
   "cell_type": "code",
   "execution_count": 12,
   "id": "e63e1657",
   "metadata": {},
   "outputs": [
    {
     "name": "stdout",
     "output_type": "stream",
     "text": [
      "\n",
      "- [Speaker - Greg Loughnane](https://www.linkedin.com/in/gregloughnane/)\n",
      "- [Video](https://www.youtube.com/watch?v=0QaUqoICNBo&t=272s)\n",
      "- [Slide](https://www.canva.com/design/DAFvFEhCJtg/Mthlo-nWXAPck3iK3JaB7Q/edit)\n",
      "- [Code](https://github.com/arcee-ai/DALM/tree/main (Domain Adapted Lang Modeling Toolkit))\n",
      "- [Company - AI Maker Space](https://github.com/AI-Maker-Space/Fine-tuning-LLM-Resources)\n",
      "- [Paper - Improving the Domain Adaptation of Retrieval Augmented Generation (RAG) Models for Open Domain Question Answering](https://arxiv.org/pdf/2210.02627.pdf)\n",
      "- [LlmOps](https://github.com/AI-Maker-Space/Interactive-Dev-Environment-for-LLM-Development)\n",
      "Chainlit:\n",
      "- [Doc](https://docs.chainlit.io/get-started/overview)\n",
      "- [Github](https://github.com/Chainlit/chainlit)\n",
      "- [Demo](https://github.com/AI-Maker-Space/Introduction-to-Chainlit)\n",
      "\n"
     ]
    }
   ],
   "source": [
    "print(\"\\n\".join(lines))"
   ]
  },
  {
   "cell_type": "code",
   "execution_count": null,
   "id": "94d01447",
   "metadata": {},
   "outputs": [],
   "source": []
  }
 ],
 "metadata": {
  "kernelspec": {
   "display_name": "Python 3 (ipykernel)",
   "language": "python",
   "name": "python3"
  },
  "language_info": {
   "codemirror_mode": {
    "name": "ipython",
    "version": 3
   },
   "file_extension": ".py",
   "mimetype": "text/x-python",
   "name": "python",
   "nbconvert_exporter": "python",
   "pygments_lexer": "ipython3",
   "version": "3.9.13"
  },
  "nbTranslate": {
   "displayLangs": [
    "*"
   ],
   "hotkey": "alt-t",
   "langInMainMenu": true,
   "sourceLang": "en",
   "targetLang": "fr",
   "useGoogleTranslate": true
  },
  "toc": {
   "base_numbering": 1,
   "nav_menu": {},
   "number_sections": true,
   "sideBar": true,
   "skip_h1_title": false,
   "title_cell": "Table of Contents",
   "title_sidebar": "Contents",
   "toc_cell": false,
   "toc_position": {},
   "toc_section_display": true,
   "toc_window_display": false
  }
 },
 "nbformat": 4,
 "nbformat_minor": 5
}
