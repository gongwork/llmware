{
 "cells": [
  {
   "cell_type": "markdown",
   "id": "72b8107d",
   "metadata": {},
   "source": [
    "https://github.com/llmware-ai/llmware/blob/main/examples/invoice_processing.py\n"
   ]
  },
  {
   "cell_type": "code",
   "execution_count": 1,
   "id": "ab1adb5e",
   "metadata": {},
   "outputs": [],
   "source": [
    "\n",
    "#   invoice_processing.py example illustrates the use of parsing combined with prompts_with_sources\n",
    "#   to rapidly iterate through a batch of invoices and ask a set of questions, and then save the full\n",
    "#   output to both (1) .jsonl for integration into an upstream application/database and (2) to a CSV\n",
    "#   for human review in excel.\n",
    "\n",
    "#   note: the sample code pulls from a public repo to load the sample invoice documents the first time -\n",
    "#   please feel free to substitute with your own invoice documents (PDF/DOCX/PPTX/XLSX/CSV/TXT) if you prefer.\n",
    "\n",
    "#   this example does not require a database or embedding\n",
    "\n",
    "#   this example can be run locally on a laptop by setting 'run_on_cpu=True'\n",
    "#   if 'run_on_cpu==False\", then please see the example 'launch_llmware_inference_server.py'\n",
    "#   to configure and set up a 'pop-up' GPU inference server in just a few minutes"
   ]
  },
  {
   "cell_type": "code",
   "execution_count": 2,
   "id": "bd73dc04",
   "metadata": {},
   "outputs": [],
   "source": [
    "import os\n",
    "import re\n",
    "\n",
    "from llmware.prompts import Prompt, HumanInTheLoop\n",
    "from llmware.configs import LLMWareConfig\n",
    "from llmware.setup import Setup\n",
    "from llmware.models import ModelCatalog"
   ]
  },
  {
   "cell_type": "code",
   "execution_count": 3,
   "id": "6f11bbe3",
   "metadata": {},
   "outputs": [],
   "source": [
    "def invoice_processing(run_on_cpu=True):\n",
    "\n",
    "    #   Step 1 - Pull down the sample files from S3 through the .load_sample_files() command\n",
    "    #   --note: if you need to refresh the sample files, set 'over_write=True'\n",
    "    print(\"update: Downloading Sample Files\")\n",
    "\n",
    "    sample_files_path = Setup().load_sample_files(over_write=False)\n",
    "    invoices_path = os.path.join(sample_files_path, \"Invoices\")\n",
    "\n",
    "    #   Step 2 - simple sample query list - each question will be asked to each invoice\n",
    "    query_list = [\"What is the total amount of the invoice?\",\n",
    "                  \"What is the invoice number?\",\n",
    "                  \"What are the names of the two parties?\"]\n",
    "\n",
    "    #   Step 3 - Load Model\n",
    "\n",
    "    if run_on_cpu:\n",
    "\n",
    "        #   load local bling model that can run on cpu/laptop\n",
    "        #   alternates to try on cpu:\n",
    "        #       -- \"llmware/bling-1.4b-0.1\", \"llmware/bling-falcon-1b-0.1\",\n",
    "        #       -- \"llmware/bling-sheared-llama-2.7b-0.1\", \"llmware/bling-sheared-llama-1.3b-0.1\",\n",
    "        #       -- \"llmware/bling-red-pajamas-3b-0.1\", \"llmware/bling-stable-lm-3b-4e1t-0.1\"\n",
    "\n",
    "        #   note: bling-1b-0.1 is the *fastest* & *smallest*, but will make more errors than larger BLING models\n",
    "        model_name = \"llmware/bling-1b-0.1\"\n",
    "\n",
    "    else:\n",
    "\n",
    "        #   use GPU-based inference server to process\n",
    "        #  *** see the launch_llmware_inference_server.py example script to setup ***\n",
    "\n",
    "        server_uri_string = \"http://11.123.456.789:8088\"    # insert your server_uri_string\n",
    "        server_secret_key = \"demo-test\"\n",
    "        ModelCatalog().setup_custom_llmware_inference_server(server_uri_string, secret_key=server_secret_key)\n",
    "        model_name = \"llmware-inference-server\"\n",
    "\n",
    "    #   attach inference server to prompt object\n",
    "    prompter = Prompt().load_model(model_name)\n",
    "\n",
    "    #   Step 4 - main loop thru folder of invoices\n",
    "\n",
    "    for i, invoice in enumerate(os.listdir(invoices_path)):\n",
    "\n",
    "        #   just in case (legacy on mac os file system - not needed on linux or windows)\n",
    "        if invoice != \".DS_Store\":\n",
    "\n",
    "            print(\"\\nAnalyzing invoice: \", str(i + 1), invoice)\n",
    "\n",
    "            for question in query_list:\n",
    "\n",
    "                #   Step 4A - parses the invoices in memory and attaches as a source to the Prompt\n",
    "                source = prompter.add_source_document(invoices_path,invoice)\n",
    "\n",
    "                #   Step 4B - executes the prompt on the LLM (with the loaded source)\n",
    "                output = prompter.prompt_with_source(question,prompt_name=\"default_with_context\")\n",
    "\n",
    "                for i, response in enumerate(output):\n",
    "                    print(\"LLM Response - \", question, \" - \", re.sub(\"[\\n]\",\" \", response[\"llm_response\"]))\n",
    "\n",
    "                prompter.clear_source_materials()\n",
    "\n",
    "    # Save jsonl report with full transaction history to /prompt_history folder\n",
    "    print(\"\\nupdate: prompt state saved at: \", os.path.join(LLMWareConfig.get_prompt_path(),prompter.prompt_id))\n",
    "\n",
    "    prompter.save_state()\n",
    "\n",
    "    # Generate CSV report for easy Human review in Excel\n",
    "    csv_output = HumanInTheLoop(prompter).export_current_interaction_to_csv()\n",
    "\n",
    "    print(\"\\nupdate: csv output for human review - \", csv_output)\n",
    "\n",
    "    return 0"
   ]
  },
  {
   "cell_type": "code",
   "execution_count": 4,
   "id": "8916cb62",
   "metadata": {
    "scrolled": false
   },
   "outputs": [
    {
     "name": "stdout",
     "output_type": "stream",
     "text": [
      "update: Downloading Sample Files\n"
     ]
    },
    {
     "data": {
      "application/vnd.jupyter.widget-view+json": {
       "model_id": "c120f715375c45698994ce057629eccc",
       "version_major": 2,
       "version_minor": 0
      },
      "text/plain": [
       "config.json:   0%|          | 0.00/2.27k [00:00<?, ?B/s]"
      ]
     },
     "metadata": {},
     "output_type": "display_data"
    },
    {
     "name": "stderr",
     "output_type": "stream",
     "text": [
      "C:\\Users\\p2p2l\\anaconda3\\lib\\site-packages\\huggingface_hub\\file_download.py:147: UserWarning: `huggingface_hub` cache-system uses symlinks by default to efficiently store duplicated files but your machine does not support them in C:\\Users\\p2p2l\\.cache\\huggingface\\hub. Caching files will still work but in a degraded version that might require more space on your disk. This warning can be disabled by setting the `HF_HUB_DISABLE_SYMLINKS_WARNING` environment variable. For more details, see https://huggingface.co/docs/huggingface_hub/how-to-cache#limitations.\n",
      "To support symlinks on Windows, you either need to activate Developer Mode or to run Python as an administrator. In order to see activate developer mode, see this article: https://docs.microsoft.com/en-us/windows/apps/get-started/enable-your-device-for-development\n",
      "  warnings.warn(message)\n"
     ]
    },
    {
     "data": {
      "application/vnd.jupyter.widget-view+json": {
       "model_id": "c5a71bba2cd84e189351c5587a3d0134",
       "version_major": 2,
       "version_minor": 0
      },
      "text/plain": [
       "pytorch_model.bin:   0%|          | 0.00/4.11G [00:00<?, ?B/s]"
      ]
     },
     "metadata": {},
     "output_type": "display_data"
    },
    {
     "name": "stderr",
     "output_type": "stream",
     "text": [
      "Error while downloading from https://cdn-lfs.huggingface.co/repos/33/13/33136e32389dad1ccba2a3abb0a18c760fcde7f5c0c4b30726ae34007dfaf416/965e95b9ec68af2e704fc1f3ddd4215081b5cc91dd122b8cdae652ce8eb629a4?response-content-disposition=attachment%3B+filename*%3DUTF-8%27%27pytorch_model.bin%3B+filename%3D%22pytorch_model.bin%22%3B&response-content-type=application%2Foctet-stream&Expires=1702351829&Policy=eyJTdGF0ZW1lbnQiOlt7IkNvbmRpdGlvbiI6eyJEYXRlTGVzc1RoYW4iOnsiQVdTOkVwb2NoVGltZSI6MTcwMjM1MTgyOX19LCJSZXNvdXJjZSI6Imh0dHBzOi8vY2RuLWxmcy5odWdnaW5nZmFjZS5jby9yZXBvcy8zMy8xMy8zMzEzNmUzMjM4OWRhZDFjY2JhMmEzYWJiMGExOGM3NjBmY2RlN2Y1YzBjNGIzMDcyNmFlMzQwMDdkZmFmNDE2Lzk2NWU5NWI5ZWM2OGFmMmU3MDRmYzFmM2RkZDQyMTUwODFiNWNjOTFkZDEyMmI4Y2RhZTY1MmNlOGViNjI5YTQ%7EcmVzcG9uc2UtY29udGVudC1kaXNwb3NpdGlvbj0qJnJlc3BvbnNlLWNvbnRlbnQtdHlwZT0qIn1dfQ__&Signature=p3zaUwSEwjUMeEunuz7s7weDy66ZoetpqtQgrnYPimCH7YFE6S61rJoEisakOX290ufu2%7E3g97mRHPPuOZdguHXjMZ3MCwHsFEAeFI70giXc-LzvM642QxLWI6F2I8JX85c62u2ud3XvVClcnCIgXLLz46jeIDRbffJehZWfO44ATP-F89Az3CyOBSIqRWV9JqHaISMLprAt7Wj3vejbjmamebKczz7CjG1QJsWwaO8cHUa1C9k9Osrm4ECgMpqlaYISrwjMCr6llx6W4Vepk6MdXwJHAoW89bKDGqO9ejF-i8mHeiJhvRqGR6a2sHfyxeiVCneZ0Vz4vD8KcKc7bw__&Key-Pair-Id=KVTP0A1DKRTAX: HTTPSConnectionPool(host='cdn-lfs.huggingface.co', port=443): Read timed out.\n",
      "Trying to resume download...\n",
      "WARNING:huggingface_hub.file_download:Error while downloading from https://cdn-lfs.huggingface.co/repos/33/13/33136e32389dad1ccba2a3abb0a18c760fcde7f5c0c4b30726ae34007dfaf416/965e95b9ec68af2e704fc1f3ddd4215081b5cc91dd122b8cdae652ce8eb629a4?response-content-disposition=attachment%3B+filename*%3DUTF-8%27%27pytorch_model.bin%3B+filename%3D%22pytorch_model.bin%22%3B&response-content-type=application%2Foctet-stream&Expires=1702351829&Policy=eyJTdGF0ZW1lbnQiOlt7IkNvbmRpdGlvbiI6eyJEYXRlTGVzc1RoYW4iOnsiQVdTOkVwb2NoVGltZSI6MTcwMjM1MTgyOX19LCJSZXNvdXJjZSI6Imh0dHBzOi8vY2RuLWxmcy5odWdnaW5nZmFjZS5jby9yZXBvcy8zMy8xMy8zMzEzNmUzMjM4OWRhZDFjY2JhMmEzYWJiMGExOGM3NjBmY2RlN2Y1YzBjNGIzMDcyNmFlMzQwMDdkZmFmNDE2Lzk2NWU5NWI5ZWM2OGFmMmU3MDRmYzFmM2RkZDQyMTUwODFiNWNjOTFkZDEyMmI4Y2RhZTY1MmNlOGViNjI5YTQ%7EcmVzcG9uc2UtY29udGVudC1kaXNwb3NpdGlvbj0qJnJlc3BvbnNlLWNvbnRlbnQtdHlwZT0qIn1dfQ__&Signature=p3zaUwSEwjUMeEunuz7s7weDy66ZoetpqtQgrnYPimCH7YFE6S61rJoEisakOX290ufu2%7E3g97mRHPPuOZdguHXjMZ3MCwHsFEAeFI70giXc-LzvM642QxLWI6F2I8JX85c62u2ud3XvVClcnCIgXLLz46jeIDRbffJehZWfO44ATP-F89Az3CyOBSIqRWV9JqHaISMLprAt7Wj3vejbjmamebKczz7CjG1QJsWwaO8cHUa1C9k9Osrm4ECgMpqlaYISrwjMCr6llx6W4Vepk6MdXwJHAoW89bKDGqO9ejF-i8mHeiJhvRqGR6a2sHfyxeiVCneZ0Vz4vD8KcKc7bw__&Key-Pair-Id=KVTP0A1DKRTAX: HTTPSConnectionPool(host='cdn-lfs.huggingface.co', port=443): Read timed out.\n",
      "Trying to resume download...\n"
     ]
    },
    {
     "data": {
      "application/vnd.jupyter.widget-view+json": {
       "model_id": "4c76d59514cd47f8881cefbe09d4458d",
       "version_major": 2,
       "version_minor": 0
      },
      "text/plain": [
       "pytorch_model.bin:  77%|#######6  | 3.16G/4.11G [00:00<?, ?B/s]"
      ]
     },
     "metadata": {},
     "output_type": "display_data"
    },
    {
     "name": "stderr",
     "output_type": "stream",
     "text": [
      "Error while downloading from https://cdn-lfs.huggingface.co/repos/33/13/33136e32389dad1ccba2a3abb0a18c760fcde7f5c0c4b30726ae34007dfaf416/965e95b9ec68af2e704fc1f3ddd4215081b5cc91dd122b8cdae652ce8eb629a4?response-content-disposition=attachment%3B+filename*%3DUTF-8%27%27pytorch_model.bin%3B+filename%3D%22pytorch_model.bin%22%3B&response-content-type=application%2Foctet-stream&Expires=1702351829&Policy=eyJTdGF0ZW1lbnQiOlt7IkNvbmRpdGlvbiI6eyJEYXRlTGVzc1RoYW4iOnsiQVdTOkVwb2NoVGltZSI6MTcwMjM1MTgyOX19LCJSZXNvdXJjZSI6Imh0dHBzOi8vY2RuLWxmcy5odWdnaW5nZmFjZS5jby9yZXBvcy8zMy8xMy8zMzEzNmUzMjM4OWRhZDFjY2JhMmEzYWJiMGExOGM3NjBmY2RlN2Y1YzBjNGIzMDcyNmFlMzQwMDdkZmFmNDE2Lzk2NWU5NWI5ZWM2OGFmMmU3MDRmYzFmM2RkZDQyMTUwODFiNWNjOTFkZDEyMmI4Y2RhZTY1MmNlOGViNjI5YTQ%7EcmVzcG9uc2UtY29udGVudC1kaXNwb3NpdGlvbj0qJnJlc3BvbnNlLWNvbnRlbnQtdHlwZT0qIn1dfQ__&Signature=p3zaUwSEwjUMeEunuz7s7weDy66ZoetpqtQgrnYPimCH7YFE6S61rJoEisakOX290ufu2%7E3g97mRHPPuOZdguHXjMZ3MCwHsFEAeFI70giXc-LzvM642QxLWI6F2I8JX85c62u2ud3XvVClcnCIgXLLz46jeIDRbffJehZWfO44ATP-F89Az3CyOBSIqRWV9JqHaISMLprAt7Wj3vejbjmamebKczz7CjG1QJsWwaO8cHUa1C9k9Osrm4ECgMpqlaYISrwjMCr6llx6W4Vepk6MdXwJHAoW89bKDGqO9ejF-i8mHeiJhvRqGR6a2sHfyxeiVCneZ0Vz4vD8KcKc7bw__&Key-Pair-Id=KVTP0A1DKRTAX: HTTPSConnectionPool(host='cdn-lfs.huggingface.co', port=443): Read timed out.\n",
      "Trying to resume download...\n",
      "WARNING:huggingface_hub.file_download:Error while downloading from https://cdn-lfs.huggingface.co/repos/33/13/33136e32389dad1ccba2a3abb0a18c760fcde7f5c0c4b30726ae34007dfaf416/965e95b9ec68af2e704fc1f3ddd4215081b5cc91dd122b8cdae652ce8eb629a4?response-content-disposition=attachment%3B+filename*%3DUTF-8%27%27pytorch_model.bin%3B+filename%3D%22pytorch_model.bin%22%3B&response-content-type=application%2Foctet-stream&Expires=1702351829&Policy=eyJTdGF0ZW1lbnQiOlt7IkNvbmRpdGlvbiI6eyJEYXRlTGVzc1RoYW4iOnsiQVdTOkVwb2NoVGltZSI6MTcwMjM1MTgyOX19LCJSZXNvdXJjZSI6Imh0dHBzOi8vY2RuLWxmcy5odWdnaW5nZmFjZS5jby9yZXBvcy8zMy8xMy8zMzEzNmUzMjM4OWRhZDFjY2JhMmEzYWJiMGExOGM3NjBmY2RlN2Y1YzBjNGIzMDcyNmFlMzQwMDdkZmFmNDE2Lzk2NWU5NWI5ZWM2OGFmMmU3MDRmYzFmM2RkZDQyMTUwODFiNWNjOTFkZDEyMmI4Y2RhZTY1MmNlOGViNjI5YTQ%7EcmVzcG9uc2UtY29udGVudC1kaXNwb3NpdGlvbj0qJnJlc3BvbnNlLWNvbnRlbnQtdHlwZT0qIn1dfQ__&Signature=p3zaUwSEwjUMeEunuz7s7weDy66ZoetpqtQgrnYPimCH7YFE6S61rJoEisakOX290ufu2%7E3g97mRHPPuOZdguHXjMZ3MCwHsFEAeFI70giXc-LzvM642QxLWI6F2I8JX85c62u2ud3XvVClcnCIgXLLz46jeIDRbffJehZWfO44ATP-F89Az3CyOBSIqRWV9JqHaISMLprAt7Wj3vejbjmamebKczz7CjG1QJsWwaO8cHUa1C9k9Osrm4ECgMpqlaYISrwjMCr6llx6W4Vepk6MdXwJHAoW89bKDGqO9ejF-i8mHeiJhvRqGR6a2sHfyxeiVCneZ0Vz4vD8KcKc7bw__&Key-Pair-Id=KVTP0A1DKRTAX: HTTPSConnectionPool(host='cdn-lfs.huggingface.co', port=443): Read timed out.\n",
      "Trying to resume download...\n"
     ]
    },
    {
     "data": {
      "application/vnd.jupyter.widget-view+json": {
       "model_id": "7a306cb74a8945289005aa93768a1fb1",
       "version_major": 2,
       "version_minor": 0
      },
      "text/plain": [
       "pytorch_model.bin:  89%|########9 | 3.67G/4.11G [00:00<?, ?B/s]"
      ]
     },
     "metadata": {},
     "output_type": "display_data"
    },
    {
     "data": {
      "application/vnd.jupyter.widget-view+json": {
       "model_id": "6712a140867a42b89cfe5771c62ce250",
       "version_major": 2,
       "version_minor": 0
      },
      "text/plain": [
       "tokenizer.json:   0%|          | 0.00/2.11M [00:00<?, ?B/s]"
      ]
     },
     "metadata": {},
     "output_type": "display_data"
    },
    {
     "name": "stdout",
     "output_type": "stream",
     "text": [
      "\n",
      "Analyzing invoice:  2 Alpha Services Vendor Inc Invoice.pdf\n",
      "LLM Response -  What is the total amount of the invoice?  -   $22,500.00\n",
      "LLM Response -  What is the invoice number?  -   0001\n",
      "LLM Response -  What are the names of the two parties?  -   Alpha Inc. and Services Vendor Inc.\n",
      "\n",
      "Analyzing invoice:  3 Alpha Simple Invoice Template.pdf\n",
      "LLM Response -  What is the total amount of the invoice?  -   $12,980.00\n",
      "LLM Response -  What is the invoice number?  -   No.  1.\n",
      "LLM Response -  What are the names of the two parties?  -   Alpha Inc.\n",
      "\n",
      "Analyzing invoice:  4 Beta Services Vendor Inc Invoice.pdf\n",
      "LLM Response -  What is the total amount of the invoice?  -   33,500.00\n",
      "LLM Response -  What is the invoice number?  -   0002\n",
      "LLM Response -  What are the names of the two parties?  -   Beta Inc. and Beta Project\n",
      "\n",
      "Analyzing invoice:  5 Beta Simple Invoice Template.pdf\n",
      "LLM Response -  What is the total amount of the invoice?  -   $880.00\n",
      "LLM Response -  What is the invoice number?  -   2, 2022\n",
      "LLM Response -  What are the names of the two parties?  -   Beta Inc.\n",
      "\n",
      "Analyzing invoice:  6 Chi Services Vendor Inc Invoice.pdf\n",
      "LLM Response -  What is the total amount of the invoice?  -   $42,500\n",
      "LLM Response -  What is the invoice number?  -   0003\n",
      "LLM Response -  What are the names of the two parties?  -   Chi Inc.\n",
      "\n",
      "Analyzing invoice:  7 Chi Simple Invoice .pdf\n",
      "LLM Response -  What is the total amount of the invoice?  -   $1500.00\n",
      "LLM Response -  What is the invoice number?  -   3, 2022\n",
      "LLM Response -  What are the names of the two parties?  -   Chi Inc. and Hebe Heracles\n",
      "\n",
      "Analyzing invoice:  8 Delta Simple Invoice .pdf\n",
      "LLM Response -  What is the total amount of the invoice?  -   $4565.00\n",
      "LLM Response -  What is the invoice number?  -   No. 3, April 3, 2022.\n",
      "LLM Response -  What are the names of the two parties?  -   AI Bloks Testing Company\n",
      "\n",
      "Analyzing invoice:  9 Epsilon Services Vendor Inc Invoice.pdf\n",
      "LLM Response -  What is the total amount of the invoice?  -   $50,000.00\n",
      "LLM Response -  What is the invoice number?  -   005\n",
      "LLM Response -  What are the names of the two parties?  -   Epsilon Inc. and Back End Engineering, Inc.\n",
      "\n",
      "Analyzing invoice:  10 Epsilon Simple Invoice .pdf\n",
      "LLM Response -  What is the total amount of the invoice?  -   $176,550.00\n",
      "LLM Response -  What is the invoice number?  -   Invoice No. 5.\n",
      "LLM Response -  What are the names of the two parties?  -   Invoice No. 5, and the company is called \"Epsilon Inc.\"\n",
      "\n",
      "Analyzing invoice:  11 Eta Services Vendor Inc Invoice.pdf\n",
      "LLM Response -  What is the total amount of the invoice?  -   39,000.00\n",
      "LLM Response -  What is the invoice number?  -   005\n",
      "LLM Response -  What are the names of the two parties?  -   Eta Inc. and Diana Spencer\n",
      "\n",
      "Analyzing invoice:  12 Eta Simple Invoice .pdf\n",
      "LLM Response -  What is the total amount of the invoice?  -   $3,553.00\n",
      "LLM Response -  What is the invoice number?  -   #5, #4, #3, #2, #1, #0, #1, #0, #0, #0, #0, #0, #0, #0, #0, #0, #0, #0, #0, #0, #0, #0, #0, #0, #0, #0, #0, #0, #0, #0, #0, #0, #0, #0, #0, #0, #0, #0, #0, #0, #0, #0, #0, #0, #0, #0, #0, #0, #0, #0, #0, #0, #0, #0, #0, #0, #0, #0, #0, #0, #0, #0, #0, #0, #0, #0, #0,\n",
      "LLM Response -  What are the names of the two parties?  -   AI Bloks Testing Company\n",
      "\n",
      "Analyzing invoice:  13 Gamma Services Vendor Inc Invoice.pdf\n",
      "LLM Response -  What is the total amount of the invoice?  -   $131,500.00\n",
      "LLM Response -  What is the invoice number?  -   007.\n",
      "LLM Response -  What are the names of the two parties?  -   Gamma Inc. and Gamma Project.\n",
      "\n",
      "Analyzing invoice:  14 Iota Services Vendor Inc Invoice.pdf\n",
      "LLM Response -  What is the total amount of the invoice?  -   131,500.00\n",
      "LLM Response -  What is the invoice number?  -   008, 6TO: Iota Inc. 600 Solano Avenue Pleasantville, NY 1008, 6TO: Iota Inc. 600 Solano Avenue Berkeley, CA 1008, 6TO: Iota Inc. 600 Solano Avenue Pleasantville, NY 1008, 6TO: Iota Inc. 600 Solano Avenue Berkeley, CA 1008, 6TO: Iota Inc. 600 Solano Avenue Pleasantville, NY 1008, 6TO: Iota Inc. 600 Solano Avenue Berkeley, CA 1008, 6TO: Iota Inc. 600 Solano Avenue Pleasantville, NY 1008, 6TO: Iota Inc. 600 Solano Avenue Berkeley, CA 1008, 6TO: Iota Inc. 600 Solano Avenue Pleasantville, NY 1008, 6TO: Iota Inc. 600 Solano Avenue Berkeley, CA 1008, 6TO: Iota Inc. 600 Solano Avenue Pleasant\n",
      "LLM Response -  What are the names of the two parties?  -   Iota Inc. and Services Vendor Inc.\n",
      "\n",
      "Analyzing invoice:  15 Iota Simple Invoice .pdf\n",
      "LLM Response -  What is the total amount of the invoice?  -   $7,106.00\n",
      "LLM Response -  What is the invoice number?  -   8/2022\n",
      "LLM Response -  What are the names of the two parties?  -   Iota Inc. and Bloks Testing Company\n",
      "\n",
      "Analyzing invoice:  16 Kappa Services Vendor Inc Invoice.pdf\n",
      "LLM Response -  What is the total amount of the invoice?  -   $188,000.00\n",
      "LLM Response -  What is the invoice number?  -   0010.\n",
      "LLM Response -  What are the names of the two parties?  -   Kappa Inc. and Services Vendor Inc.\n",
      "\n",
      "Analyzing invoice:  17 Kappa Simple Invoice .pdf\n",
      "LLM Response -  What is the total amount of the invoice?  -   $14,212.00\n",
      "LLM Response -  What is the invoice number?  -   #9, #20, and #22.\n",
      "LLM Response -  What are the names of the two parties?  -   Kappa Inc.\n",
      "\n",
      "Analyzing invoice:  18 Lambda Services Vendor Inc Invoice.pdf\n",
      "LLM Response -  What is the total amount of the invoice?  -   $169,000.00\n",
      "LLM Response -  What is the invoice number?  -   0011.\n",
      "LLM Response -  What are the names of the two parties?  -   Not Found.\n",
      "\n",
      "Analyzing invoice:  19 Lambda Simple Invoice .pdf\n",
      "LLM Response -  What is the total amount of the invoice?  -   $28,424.00\n",
      "LLM Response -  What is the invoice number?  -   10.\n",
      "LLM Response -  What are the names of the two parties?  -   Amazon.com and Lambda, Inc.\n",
      "\n",
      "Analyzing invoice:  20 Mu Services Vendor Inc Invoice.pdf\n",
      "LLM Response -  What is the total amount of the invoice?  -   165,500.00\n",
      "LLM Response -  What is the invoice number?  -   #0012\n",
      "LLM Response -  What are the names of the two parties?  -   Mu Inc. and Services Vendor Inc.\n",
      "\n",
      "Analyzing invoice:  21 Mu Simple Invoice .pdf\n",
      "LLM Response -  What is the total amount of the invoice?  -   $16,874.00\n",
      "LLM Response -  What is the invoice number?  -   30   Boxes of Pencils  $3.00  $300.00  100   Boxes, Paperclips  $10.00  $1\n",
      " 2.  Invoice No. 10 to your company.f the two parties?  -   1.  Lambda Inc.\n",
      "\n",
      "Analyzing invoice:  22 nu Services Vendor Inc Invoice.pdf\n",
      "LLM Response -  What is the total amount of the invoice?  -   133,000.00\n",
      "LLM Response -  What is the invoice number?  -   0013\n",
      "LLM Response -  What are the names of the two parties?  -   Nu Inc. and Bia Hermes\n",
      "\n",
      "Analyzing invoice:  23 Nu Simple Invoice .pdf\n",
      "LLM Response -  What is the total amount of the invoice?  -   $18,854.00\n",
      "LLM Response -  What is the invoice number?  -   #12;#12;#12;#12;#12;#12;#12;#12;#12;#12;#12;#12;#12;#12;#12;#12;#12;#12;#12;#12;#12;#12;#12;#12;#12;#12;#12;#12;#12;#12;#12;#12;#12;#12;#12;#12;#12;#12;#12;#12;#12;#12;#12;#12;#12;#12;#12;#12;#12;#12;#12;#12;#12;#12;#12;#12;#12;#12;#12;#12;#12;#12;#12;#12;#12;#12;#12;\n",
      "LLM Response -  What are the names of the two parties?  -   Nu Inc. and Binders.\n",
      "\n",
      "Analyzing invoice:  24 Omega Services Vendor Inc Invoice.pdf\n",
      "LLM Response -  What is the total amount of the invoice?  -   89,000.00\n",
      "LLM Response -  What is the invoice number?  -   0014\n",
      "LLM Response -  What are the names of the two parties?  -   Omega Inc. and Omega Project.\n",
      "\n",
      "Analyzing invoice:  25 Omega Simple Invoice .pdf\n",
      "LLM Response -  What is the total amount of the invoice?  -   $300.00\n",
      "LLM Response -  What is the invoice number?  -   No.  (Invoice No.):  13  YOUR COMPANY   AI Bloks Testing Company   425 Taconic Road   Greenwich, CT      INVOICE TO   Omega Inc.   245 Main Street   Gainesville, FL          HEBE HERACLES   OFFICE SUPPLIES  PAYMENT TERMS  DUE DATE       Due on Receipt   On Receipt     QUANTITY   DESCRIPTION  UNIT PRICE  LINE TOTAL      100   Boxes of Pencils  $3.00  $300.00  100   Boxes, Paperclips  $10.00  $1,000.00  30   Boxes, Binderclips  $6.00  $180.00  100   Notebooks  $2.50  $250  100   Boxes of Pencils  $3.00  $300.00  100   Boxes, Paperclips  $10\n",
      "LLM Response -  What are the names of the two parties?  -   Omega Inc. and Bloks Testing Company\n",
      "\n",
      "Analyzing invoice:  26 Omicron Services Vendor Inc Invoice.pdf\n"
     ]
    },
    {
     "name": "stdout",
     "output_type": "stream",
     "text": [
      "LLM Response -  What is the total amount of the invoice?  -   98,000.00\n",
      "LLM Response -  What is the invoice number?  -   0015\n",
      "LLM Response -  What are the names of the two parties?  -   Omicron Inc. and Services Vendor Inc.\n",
      "\n",
      "Analyzing invoice:  27 Phi Services Vendor Inc Invoice.pdf\n",
      "LLM Response -  What is the total amount of the invoice?  -   $70,500.00\n",
      "LLM Response -  What is the invoice number?  -   0017\n",
      "LLM Response -  What are the names of the two parties?  -   1.  Phi Inc.   2.  Phi Project   3.  Phi Project   4.  Phi Project   5.  Phi Project   6.  Phi Project   7.  Phi Project   8.  Phi Project   9.  Phi Project   10.  Phi Project   11.  Phi Project   12.  Phi Project   13.  Phi Project   14.  Phi Project   15.  Phi Project   16.  Phi Project   17.  Phi Project   18.  Phi Project   19.  Phi Project   20.  Phi Project   21.  Phi Project   22.  Phi Project   23.  Phi Project   24.  Phi Project   25.  Phi Project   26.  Phi Project   27.  Phi Project   28.  Phi Project   29.  Phi Project   30.  Phi Project   31.  Phi Project   32.  Phi Project   33.  Phi Project   34.\n",
      "\n",
      "Analyzing invoice:  28 Pi Services Vendor Inc Invoice.pdf\n",
      "LLM Response -  What is the total amount of the invoice?  -   $305,500.00\n",
      "LLM Response -  What is the invoice number?  -   0018\n",
      "LLM Response -  What are the names of the two parties?  -   Pi Inc. and Pi Project\n",
      "\n",
      "Analyzing invoice:  29 Pi Simple Invoice .pdf\n",
      "LLM Response -  What is the total amount of the invoice?  -   $3,630.00\n",
      "LLM Response -  What is the invoice number?  -   No.  14.\n",
      "LLM Response -  What are the names of the two parties?  -   Pi Inc.\n",
      "\n",
      "Analyzing invoice:  30 Psi Simple Invoice .pdf\n",
      "LLM Response -  What is the total amount of the invoice?  -   $3,630.00\n",
      "LLM Response -  What is the invoice number?  -   No. 15.\n",
      "LLM Response -  What are the names of the two parties?  -   Not Found.\n",
      "\n",
      "Analyzing invoice:  31 Sigma Services Vendor Inc Invoice.pdf\n",
      "LLM Response -  What is the total amount of the invoice?  -   $5000.00\n",
      "LLM Response -  What is the invoice number?  -   0021\n",
      "LLM Response -  What are the names of the two parties?  -   Sigma Inc. and Sigma Project.\n",
      "\n",
      "Analyzing invoice:  32 Sigma Simple Invoice .pdf\n",
      "LLM Response -  What is the total amount of the invoice?  -   $3,630.00\n",
      "LLM Response -  What is the invoice number?  -   No.  17, Yours Company, AI Bloks Testing Company, 425 Taconic Road, Greenwich, CT, on March 16, 2022.\n",
      "LLM Response -  What are the names of the two parties?  -   Not Found.\n",
      "\n",
      "Analyzing invoice:  33 Tau Simple Invoice .pdf\n",
      "LLM Response -  What is the total amount of the invoice?  -   $3,630.00\n",
      "LLM Response -  What is the invoice number?  -   No.  18,  YOUR COMPANY.\n",
      "LLM Response -  What are the names of the two parties?  -   Tau and Hebe Heracles\n",
      "\n",
      "Analyzing invoice:  34 Theta Services Vendor Inc Invoice.pdf\n",
      "LLM Response -  What is the total amount of the invoice?  -   $100,500.00\n",
      "LLM Response -  What is the invoice number?  -   0023\n",
      "LLM Response -  What are the names of the two parties?  -  Theta Inc. and Services Vendor Inc.\n",
      "\n",
      "Analyzing invoice:  35 Theta Simple Invoice .pdf\n",
      "LLM Response -  What is the total amount of the invoice?  -   $3,630.00\n",
      "LLM Response -  What is the invoice number?  -   #19, #20, #21, #22, #23, #24, #25, #26, #27, #28, #29, #30, #31, #32, #33, #34, #35, #36, #37, #38, #39, #40, #41, #42, #43, #44, #45, #46, #47, #48, #49, #50, #51, #52, #53, #54, #55, #56, #57, #58, #59, #60, #61, #62, #63, #64, #65, #66, #67, #68, #69, #70, #71, #72, #73, #74, #75, #76, #77, #78, #79, #80, #81, #82, #83, #84, #85,\n",
      "LLM Response -  What are the names of the two parties?  -   Not Found.\n",
      "\n",
      "Analyzing invoice:  36 Upsilon Services Vendor Inc Invoice.pdf\n",
      "LLM Response -  What is the total amount of the invoice?  -   $100,500.00\n",
      "LLM Response -  What is the invoice number?  -   0024.\n",
      "LLM Response -  What are the names of the two parties?  -   Upsilon Inc.\n",
      "\n",
      "Analyzing invoice:  37 Upsilon Simple Invoice .pdf\n",
      "LLM Response -  What is the total amount of the invoice?  -   $330.00\n",
      "LLM Response -  What is the invoice number?  -   20, 2022\n",
      "LLM Response -  What are the names of the two parties?  -   Not Found.\n",
      "\n",
      "Analyzing invoice:  38 xi Services Vendor Inc Invoice.pdf\n",
      "LLM Response -  What is the total amount of the invoice?  -   $44,000\n",
      "LLM Response -  What is the invoice number?  -   0025\n",
      "LLM Response -  What are the names of the two parties?  -   Xi Inc.\n",
      "\n",
      "Analyzing invoice:  39 xi Simple Invoice .pdf\n",
      "LLM Response -  What is the total amount of the invoice?  -   $330.00\n",
      "LLM Response -  What is the invoice number?  -   No. 22.\n",
      "LLM Response -  What are the names of the two parties?  -   Xi Inc.\n",
      "\n",
      "Analyzing invoice:  40 zeta Services Vendor Inc Invoice.pdf\n",
      "LLM Response -  What is the total amount of the invoice?  -   $44,000\n",
      "LLM Response -  What is the invoice number?  -   0027\n",
      "LLM Response -  What are the names of the two parties?  -   Theresa May and Sheidk Hasina Wajed.\n",
      "\n",
      "Analyzing invoice:  41 zetq Simple Invoice .pdf\n",
      "LLM Response -  What is the total amount of the invoice?  -   $330.00\n",
      "LLM Response -  What is the invoice number?  -   #23.\n",
      "LLM Response -  What are the names of the two parties?  -   Not Found.\n",
      "\n",
      "update: prompt state saved at:  C:\\Users\\p2p2l\\llmware_data\\prompt_history\\85735d4d-a542-4feb-9f7d-9f5faeef0406\n"
     ]
    },
    {
     "ename": "OSError",
     "evalue": "[Errno 22] Invalid argument: 'C:\\\\Users\\\\p2p2l\\\\llmware_data\\\\prompt_history\\\\interaction_report_Fri Dec  8 23:05:09 2023.csv'",
     "output_type": "error",
     "traceback": [
      "\u001b[1;31m---------------------------------------------------------------------------\u001b[0m",
      "\u001b[1;31mOSError\u001b[0m                                   Traceback (most recent call last)",
      "\u001b[1;32m~\\AppData\\Local\\Temp\\ipykernel_5752\\1846019278.py\u001b[0m in \u001b[0;36m<module>\u001b[1;34m\u001b[0m\n\u001b[1;32m----> 1\u001b[1;33m \u001b[0minvoice_processing\u001b[0m\u001b[1;33m(\u001b[0m\u001b[0mrun_on_cpu\u001b[0m\u001b[1;33m=\u001b[0m\u001b[1;32mTrue\u001b[0m\u001b[1;33m)\u001b[0m\u001b[1;33m\u001b[0m\u001b[1;33m\u001b[0m\u001b[0m\n\u001b[0m",
      "\u001b[1;32m~\\AppData\\Local\\Temp\\ipykernel_5752\\3297449807.py\u001b[0m in \u001b[0;36minvoice_processing\u001b[1;34m(run_on_cpu)\u001b[0m\n\u001b[0;32m     67\u001b[0m \u001b[1;33m\u001b[0m\u001b[0m\n\u001b[0;32m     68\u001b[0m     \u001b[1;31m# Generate CSV report for easy Human review in Excel\u001b[0m\u001b[1;33m\u001b[0m\u001b[1;33m\u001b[0m\u001b[0m\n\u001b[1;32m---> 69\u001b[1;33m     \u001b[0mcsv_output\u001b[0m \u001b[1;33m=\u001b[0m \u001b[0mHumanInTheLoop\u001b[0m\u001b[1;33m(\u001b[0m\u001b[0mprompter\u001b[0m\u001b[1;33m)\u001b[0m\u001b[1;33m.\u001b[0m\u001b[0mexport_current_interaction_to_csv\u001b[0m\u001b[1;33m(\u001b[0m\u001b[1;33m)\u001b[0m\u001b[1;33m\u001b[0m\u001b[1;33m\u001b[0m\u001b[0m\n\u001b[0m\u001b[0;32m     70\u001b[0m \u001b[1;33m\u001b[0m\u001b[0m\n\u001b[0;32m     71\u001b[0m     \u001b[0mprint\u001b[0m\u001b[1;33m(\u001b[0m\u001b[1;34m\"\\nupdate: csv output for human review - \"\u001b[0m\u001b[1;33m,\u001b[0m \u001b[0mcsv_output\u001b[0m\u001b[1;33m)\u001b[0m\u001b[1;33m\u001b[0m\u001b[1;33m\u001b[0m\u001b[0m\n",
      "\u001b[1;32mc:\\users\\p2p2l\\projects\\gongwork\\llmware\\llmware\\prompts.py\u001b[0m in \u001b[0;36mexport_current_interaction_to_csv\u001b[1;34m(self, output_path, report_name)\u001b[0m\n\u001b[0;32m   1880\u001b[0m         \u001b[1;31m# this method will take the current interaction state and dump to csv ffor user to review and edit\u001b[0m\u001b[1;33m\u001b[0m\u001b[1;33m\u001b[0m\u001b[0m\n\u001b[0;32m   1881\u001b[0m \u001b[1;33m\u001b[0m\u001b[0m\n\u001b[1;32m-> 1882\u001b[1;33m         output = PromptState(self.prompt).generate_interaction_report_current_state(output_path=output_path,\n\u001b[0m\u001b[0;32m   1883\u001b[0m                                                                                     report_name=report_name)\n\u001b[0;32m   1884\u001b[0m \u001b[1;33m\u001b[0m\u001b[0m\n",
      "\u001b[1;32mc:\\users\\p2p2l\\projects\\gongwork\\llmware\\llmware\\resources.py\u001b[0m in \u001b[0;36mgenerate_interaction_report_current_state\u001b[1;34m(self, output_path, report_name)\u001b[0m\n\u001b[0;32m   1069\u001b[0m         \u001b[0mreport_fp\u001b[0m \u001b[1;33m=\u001b[0m \u001b[0mos\u001b[0m\u001b[1;33m.\u001b[0m\u001b[0mpath\u001b[0m\u001b[1;33m.\u001b[0m\u001b[0mjoin\u001b[0m\u001b[1;33m(\u001b[0m\u001b[0moutput_path\u001b[0m\u001b[1;33m,\u001b[0m\u001b[0mreport_name\u001b[0m\u001b[1;33m)\u001b[0m\u001b[1;33m\u001b[0m\u001b[1;33m\u001b[0m\u001b[0m\n\u001b[0;32m   1070\u001b[0m \u001b[1;33m\u001b[0m\u001b[0m\n\u001b[1;32m-> 1071\u001b[1;33m         \u001b[1;32mwith\u001b[0m \u001b[0mopen\u001b[0m\u001b[1;33m(\u001b[0m\u001b[0mreport_fp\u001b[0m\u001b[1;33m,\u001b[0m \u001b[1;34m'w'\u001b[0m\u001b[1;33m,\u001b[0m \u001b[0mencoding\u001b[0m\u001b[1;33m=\u001b[0m\u001b[1;34m'utf-8'\u001b[0m\u001b[1;33m,\u001b[0m \u001b[0mnewline\u001b[0m\u001b[1;33m=\u001b[0m\u001b[1;34m''\u001b[0m\u001b[1;33m)\u001b[0m \u001b[1;32mas\u001b[0m \u001b[0mcsvfile\u001b[0m\u001b[1;33m:\u001b[0m\u001b[1;33m\u001b[0m\u001b[1;33m\u001b[0m\u001b[0m\n\u001b[0m\u001b[0;32m   1072\u001b[0m             \u001b[0mc\u001b[0m \u001b[1;33m=\u001b[0m \u001b[0mcsv\u001b[0m\u001b[1;33m.\u001b[0m\u001b[0mwriter\u001b[0m\u001b[1;33m(\u001b[0m\u001b[0mcsvfile\u001b[0m\u001b[1;33m,\u001b[0m \u001b[0mdialect\u001b[0m\u001b[1;33m=\u001b[0m\u001b[1;34m'excel'\u001b[0m\u001b[1;33m,\u001b[0m \u001b[0mdoublequote\u001b[0m\u001b[1;33m=\u001b[0m\u001b[1;32mFalse\u001b[0m\u001b[1;33m,\u001b[0m \u001b[0mdelimiter\u001b[0m\u001b[1;33m=\u001b[0m\u001b[1;34m','\u001b[0m\u001b[1;33m,\u001b[0m \u001b[0mescapechar\u001b[0m\u001b[1;33m=\u001b[0m\u001b[1;34m']'\u001b[0m\u001b[1;33m)\u001b[0m\u001b[1;33m\u001b[0m\u001b[1;33m\u001b[0m\u001b[0m\n\u001b[0;32m   1073\u001b[0m \u001b[1;33m\u001b[0m\u001b[0m\n",
      "\u001b[1;31mOSError\u001b[0m: [Errno 22] Invalid argument: 'C:\\\\Users\\\\p2p2l\\\\llmware_data\\\\prompt_history\\\\interaction_report_Fri Dec  8 23:05:09 2023.csv'"
     ]
    }
   ],
   "source": [
    "invoice_processing(run_on_cpu=True)"
   ]
  },
  {
   "cell_type": "code",
   "execution_count": null,
   "id": "6e353b32",
   "metadata": {},
   "outputs": [],
   "source": []
  },
  {
   "cell_type": "code",
   "execution_count": null,
   "id": "03ef4549",
   "metadata": {},
   "outputs": [],
   "source": []
  },
  {
   "cell_type": "code",
   "execution_count": null,
   "id": "7a9e1841",
   "metadata": {},
   "outputs": [],
   "source": []
  },
  {
   "cell_type": "code",
   "execution_count": null,
   "id": "f308eb04",
   "metadata": {},
   "outputs": [],
   "source": []
  },
  {
   "cell_type": "raw",
   "id": "b2c35d8b",
   "metadata": {},
   "source": [
    "update: Downloading Sample Files\n",
    "---------------------------------------------------------------------------\n",
    "TypeError                                 Traceback (most recent call last)\n",
    "~\\AppData\\Local\\Temp\\ipykernel_20396\\1846019278.py in <module>\n",
    "----> 1 invoice_processing(run_on_cpu=True)\n",
    "\n",
    "~\\AppData\\Local\\Temp\\ipykernel_20396\\3297449807.py in invoice_processing(run_on_cpu)\n",
    "      5     print(\"update: Downloading Sample Files\")\n",
    "      6 \n",
    "----> 7     sample_files_path = Setup().load_sample_files(over_write=False)\n",
    "      8     invoices_path = os.path.join(sample_files_path, \"Invoices\")\n",
    "      9 \n",
    "\n",
    "TypeError: load_sample_files() got an unexpected keyword argument 'over_write'\n",
    "\n",
    "\n",
    "FIX:\n",
    "sync forked branch\n",
    "git pull \n",
    "pip install -e .\n"
   ]
  },
  {
   "cell_type": "code",
   "execution_count": null,
   "id": "4e5191a8",
   "metadata": {},
   "outputs": [],
   "source": []
  }
 ],
 "metadata": {
  "kernelspec": {
   "display_name": "Python 3 (ipykernel)",
   "language": "python",
   "name": "python3"
  },
  "language_info": {
   "codemirror_mode": {
    "name": "ipython",
    "version": 3
   },
   "file_extension": ".py",
   "mimetype": "text/x-python",
   "name": "python",
   "nbconvert_exporter": "python",
   "pygments_lexer": "ipython3",
   "version": "3.9.13"
  },
  "nbTranslate": {
   "displayLangs": [
    "*"
   ],
   "hotkey": "alt-t",
   "langInMainMenu": true,
   "sourceLang": "en",
   "targetLang": "fr",
   "useGoogleTranslate": true
  },
  "toc": {
   "base_numbering": 1,
   "nav_menu": {},
   "number_sections": true,
   "sideBar": true,
   "skip_h1_title": false,
   "title_cell": "Table of Contents",
   "title_sidebar": "Contents",
   "toc_cell": false,
   "toc_position": {},
   "toc_section_display": true,
   "toc_window_display": false
  }
 },
 "nbformat": 4,
 "nbformat_minor": 5
}
